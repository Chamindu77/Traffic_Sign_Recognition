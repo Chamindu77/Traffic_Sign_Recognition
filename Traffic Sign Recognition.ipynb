{
 "cells": [
  {
   "cell_type": "markdown",
   "id": "58cf74d6",
   "metadata": {},
   "source": [
    "# Import required libraries"
   ]
  },
  {
   "cell_type": "code",
   "execution_count": 1,
   "id": "039a4819",
   "metadata": {},
   "outputs": [
    {
     "name": "stdout",
     "output_type": "stream",
     "text": [
      "WARNING:tensorflow:From C:\\conda\\Lib\\site-packages\\keras\\src\\losses.py:2976: The name tf.losses.sparse_softmax_cross_entropy is deprecated. Please use tf.compat.v1.losses.sparse_softmax_cross_entropy instead.\n",
      "\n"
     ]
    }
   ],
   "source": [
    "import numpy as np \n",
    "import pandas as pd \n",
    "import matplotlib.pyplot as plt\n",
    "import cv2\n",
    "import tensorflow as tf\n",
    "from PIL import Image\n",
    "import os\n",
    "os.chdir('D:/Traffic_Sign_Recognition')\n",
    "from sklearn.model_selection import train_test_split\n",
    "from keras.utils import to_categorical\n",
    "from keras.models import Sequential, load_model\n",
    "from keras.layers import Conv2D, MaxPool2D, Dense, Flatten, Dropout"
   ]
  },
  {
   "cell_type": "markdown",
   "id": "c2e7becc",
   "metadata": {},
   "source": [
    "# Store data, labels in the list"
   ]
  },
  {
   "cell_type": "code",
   "execution_count": 2,
   "id": "2efe57e7",
   "metadata": {},
   "outputs": [],
   "source": [
    "data = []\n",
    "labels = []\n",
    "# 43 Classes\n",
    "classes = 43\n",
    "cur_path = os.getcwd()"
   ]
  },
  {
   "cell_type": "code",
   "execution_count": 3,
   "id": "7c7ea9c5",
   "metadata": {},
   "outputs": [
    {
     "data": {
      "text/plain": [
       "'D:\\\\Traffic_Sign_Recognition'"
      ]
     },
     "execution_count": 3,
     "metadata": {},
     "output_type": "execute_result"
    }
   ],
   "source": [
    "cur_path"
   ]
  },
  {
   "cell_type": "markdown",
   "id": "3ee976c0",
   "metadata": {},
   "source": [
    "# Preprocess the images"
   ]
  },
  {
   "cell_type": "code",
   "execution_count": 4,
   "id": "64848cba",
   "metadata": {},
   "outputs": [],
   "source": [
    "for i in range(classes):\n",
    "    path = os.path.join(cur_path,'train',str(i))\n",
    "    images = os.listdir(path)\n",
    "    for a in images:\n",
    "        try:\n",
    "            image = Image.open(path + '\\\\'+ a)\n",
    "            image = image.resize((30,30))\n",
    "            image = np.array(image)\n",
    "            data.append(image)\n",
    "            labels.append(i)\n",
    "        except Exception as e:\n",
    "            print(e)"
   ]
  },
  {
   "cell_type": "markdown",
   "id": "10ef4e2c",
   "metadata": {},
   "source": [
    "# Converting lists into numpy arrays"
   ]
  },
  {
   "cell_type": "code",
   "execution_count": 5,
   "id": "3bbfd749",
   "metadata": {},
   "outputs": [],
   "source": [
    "data = np.array(data)\n",
    "labels = np.array(labels)"
   ]
  },
  {
   "cell_type": "markdown",
   "id": "3429d1db",
   "metadata": {},
   "source": [
    "# Save Labels & Data for future use"
   ]
  },
  {
   "cell_type": "code",
   "execution_count": 6,
   "id": "14a2be67",
   "metadata": {},
   "outputs": [],
   "source": [
    "# os.mkdir('training')\n",
    "\n",
    "directory = './training/'\n",
    "if not os.path.exists(directory):\n",
    "    os.mkdir(directory)\n",
    "\n",
    "# Save the data and labels\n",
    "np.save(os.path.join(directory, 'data.npy'), data)\n",
    "np.save(os.path.join(directory, 'target.npy'), labels)"
   ]
  },
  {
   "cell_type": "markdown",
   "id": "928cac1d",
   "metadata": {},
   "source": [
    "# Load data & Labels"
   ]
  },
  {
   "cell_type": "code",
   "execution_count": 7,
   "id": "f3bddae3",
   "metadata": {},
   "outputs": [],
   "source": [
    "data=np.load('./training/data.npy')\n",
    "labels=np.load('./training/target.npy')"
   ]
  },
  {
   "cell_type": "code",
   "execution_count": 8,
   "id": "1de392fd",
   "metadata": {},
   "outputs": [
    {
     "name": "stdout",
     "output_type": "stream",
     "text": [
      "(39209, 30, 30, 3) (39209,)\n"
     ]
    }
   ],
   "source": [
    "print(data.shape, labels.shape)"
   ]
  },
  {
   "cell_type": "code",
   "execution_count": 9,
   "id": "4d6fdb80",
   "metadata": {},
   "outputs": [],
   "source": [
    "X_train, X_test, y_train, y_test = train_test_split(data, labels, test_size=0.2, random_state=0)"
   ]
  },
  {
   "cell_type": "code",
   "execution_count": 10,
   "id": "bab21ba9",
   "metadata": {},
   "outputs": [
    {
     "name": "stdout",
     "output_type": "stream",
     "text": [
      "(31367, 30, 30, 3) (7842, 30, 30, 3) (31367,) (7842,)\n"
     ]
    }
   ],
   "source": [
    "print(X_train.shape, X_test.shape, y_train.shape, y_test.shape)"
   ]
  },
  {
   "cell_type": "markdown",
   "id": "add3d08b",
   "metadata": {},
   "source": [
    "# Convert labels to onehot encoding"
   ]
  },
  {
   "cell_type": "code",
   "execution_count": 11,
   "id": "6860e5d6",
   "metadata": {},
   "outputs": [],
   "source": [
    "y_train = to_categorical(y_train, 43)\n",
    "y_test = to_categorical(y_test, 43)"
   ]
  },
  {
   "cell_type": "markdown",
   "id": "a43ae42f",
   "metadata": {},
   "source": [
    "# Build the model"
   ]
  },
  {
   "cell_type": "code",
   "execution_count": 12,
   "id": "caeebef9",
   "metadata": {},
   "outputs": [
    {
     "name": "stdout",
     "output_type": "stream",
     "text": [
      "WARNING:tensorflow:From C:\\conda\\Lib\\site-packages\\keras\\src\\backend.py:873: The name tf.get_default_graph is deprecated. Please use tf.compat.v1.get_default_graph instead.\n",
      "\n",
      "WARNING:tensorflow:From C:\\conda\\Lib\\site-packages\\keras\\src\\layers\\pooling\\max_pooling2d.py:161: The name tf.nn.max_pool is deprecated. Please use tf.nn.max_pool2d instead.\n",
      "\n"
     ]
    }
   ],
   "source": [
    "model = Sequential()\n",
    "model.add(Conv2D(filters=32, kernel_size=(5,5), activation='relu', input_shape=X_train.shape[1:]))\n",
    "model.add(Conv2D(filters=32, kernel_size=(5,5), activation='relu'))\n",
    "model.add(MaxPool2D(pool_size=(2, 2)))\n",
    "model.add(Dropout(rate=0.25))\n",
    "model.add(Conv2D(filters=64, kernel_size=(3, 3), activation='relu'))\n",
    "model.add(Conv2D(filters=64, kernel_size=(3, 3), activation='relu'))\n",
    "model.add(MaxPool2D(pool_size=(2, 2)))\n",
    "model.add(Dropout(rate=0.25))\n",
    "model.add(Flatten())\n",
    "model.add(Dense(256, activation='relu'))\n",
    "model.add(Dropout(rate=0.5))\n",
    "# I have 43 classes that's why I have defined 43 in the dense\n",
    "model.add(Dense(43, activation='softmax'))"
   ]
  },
  {
   "cell_type": "code",
   "execution_count": 13,
   "id": "52ce2695",
   "metadata": {},
   "outputs": [
    {
     "name": "stdout",
     "output_type": "stream",
     "text": [
      "WARNING:tensorflow:From C:\\conda\\Lib\\site-packages\\keras\\src\\optimizers\\__init__.py:309: The name tf.train.Optimizer is deprecated. Please use tf.compat.v1.train.Optimizer instead.\n",
      "\n"
     ]
    }
   ],
   "source": [
    "#Compilation of the model\n",
    "model.compile(loss='categorical_crossentropy', optimizer='adam', metrics=['accuracy'])"
   ]
  },
  {
   "cell_type": "code",
   "execution_count": 14,
   "id": "bf147ec5",
   "metadata": {},
   "outputs": [
    {
     "name": "stdout",
     "output_type": "stream",
     "text": [
      "Epoch 1/20\n",
      "WARNING:tensorflow:From C:\\conda\\Lib\\site-packages\\keras\\src\\utils\\tf_utils.py:492: The name tf.ragged.RaggedTensorValue is deprecated. Please use tf.compat.v1.ragged.RaggedTensorValue instead.\n",
      "\n",
      "WARNING:tensorflow:From C:\\conda\\Lib\\site-packages\\keras\\src\\engine\\base_layer_utils.py:384: The name tf.executing_eagerly_outside_functions is deprecated. Please use tf.compat.v1.executing_eagerly_outside_functions instead.\n",
      "\n",
      "981/981 [==============================] - 21s 20ms/step - loss: 1.9573 - accuracy: 0.5151 - val_loss: 0.5260 - val_accuracy: 0.8698\n",
      "Epoch 2/20\n",
      "981/981 [==============================] - 20s 20ms/step - loss: 0.8541 - accuracy: 0.7497 - val_loss: 0.2924 - val_accuracy: 0.9217\n",
      "Epoch 3/20\n",
      "981/981 [==============================] - 21s 22ms/step - loss: 0.6301 - accuracy: 0.8133 - val_loss: 0.2783 - val_accuracy: 0.9250\n",
      "Epoch 4/20\n",
      "981/981 [==============================] - 21s 22ms/step - loss: 0.5105 - accuracy: 0.8471 - val_loss: 0.1546 - val_accuracy: 0.9508\n",
      "Epoch 5/20\n",
      "981/981 [==============================] - 21s 22ms/step - loss: 0.4213 - accuracy: 0.8768 - val_loss: 0.1330 - val_accuracy: 0.9580\n",
      "Epoch 6/20\n",
      "981/981 [==============================] - 21s 22ms/step - loss: 0.3707 - accuracy: 0.8919 - val_loss: 0.1305 - val_accuracy: 0.9617\n",
      "Epoch 7/20\n",
      "981/981 [==============================] - 21s 21ms/step - loss: 0.3404 - accuracy: 0.9025 - val_loss: 0.1092 - val_accuracy: 0.9691\n",
      "Epoch 8/20\n",
      "981/981 [==============================] - 20s 21ms/step - loss: 0.3105 - accuracy: 0.9134 - val_loss: 0.0764 - val_accuracy: 0.9807\n",
      "Epoch 9/20\n",
      "981/981 [==============================] - 20s 20ms/step - loss: 0.2925 - accuracy: 0.9163 - val_loss: 0.0787 - val_accuracy: 0.9782\n",
      "Epoch 10/20\n",
      "981/981 [==============================] - 21s 21ms/step - loss: 0.2672 - accuracy: 0.9255 - val_loss: 0.0966 - val_accuracy: 0.9741\n",
      "Epoch 11/20\n",
      "981/981 [==============================] - 22s 22ms/step - loss: 0.2728 - accuracy: 0.9244 - val_loss: 0.1121 - val_accuracy: 0.9677\n",
      "Epoch 12/20\n",
      "981/981 [==============================] - 20s 20ms/step - loss: 0.3020 - accuracy: 0.9189 - val_loss: 0.0713 - val_accuracy: 0.9814\n",
      "Epoch 13/20\n",
      "981/981 [==============================] - 21s 22ms/step - loss: 0.2499 - accuracy: 0.9321 - val_loss: 0.1661 - val_accuracy: 0.9498\n",
      "Epoch 14/20\n",
      "981/981 [==============================] - 20s 20ms/step - loss: 0.2599 - accuracy: 0.9283 - val_loss: 0.0615 - val_accuracy: 0.9824\n",
      "Epoch 15/20\n",
      "981/981 [==============================] - 22s 22ms/step - loss: 0.2566 - accuracy: 0.9309 - val_loss: 0.1011 - val_accuracy: 0.9733\n",
      "Epoch 16/20\n",
      "981/981 [==============================] - 21s 21ms/step - loss: 0.2497 - accuracy: 0.9323 - val_loss: 0.0869 - val_accuracy: 0.9768\n",
      "Epoch 17/20\n",
      "981/981 [==============================] - 21s 21ms/step - loss: 0.2405 - accuracy: 0.9341 - val_loss: 0.0620 - val_accuracy: 0.9834\n",
      "Epoch 18/20\n",
      "981/981 [==============================] - 21s 21ms/step - loss: 0.2470 - accuracy: 0.9345 - val_loss: 0.0610 - val_accuracy: 0.9844\n",
      "Epoch 19/20\n",
      "981/981 [==============================] - 20s 20ms/step - loss: 0.2542 - accuracy: 0.9333 - val_loss: 0.0999 - val_accuracy: 0.9725\n",
      "Epoch 20/20\n",
      "981/981 [==============================] - 22s 22ms/step - loss: 0.2556 - accuracy: 0.9336 - val_loss: 0.0520 - val_accuracy: 0.9860\n"
     ]
    }
   ],
   "source": [
    "epochs = 20\n",
    "history = model.fit(X_train, y_train, batch_size=32, epochs=epochs, validation_data=(X_test, y_test))"
   ]
  },
  {
   "cell_type": "code",
   "execution_count": 15,
   "id": "59d8b57b",
   "metadata": {},
   "outputs": [
    {
     "data": {
      "image/png": "[encoded data removed]",
      "text/plain": [
       "<Figure size 640x480 with 1 Axes>"
      ]
     },
     "metadata": {},
     "output_type": "display_data"
    }
   ],
   "source": [
    "# accuracy \n",
    "plt.figure(0)\n",
    "plt.plot(history.history['accuracy'], label='training accuracy')\n",
    "plt.plot(history.history['val_accuracy'], label='val accuracy')\n",
    "plt.title('Accuracy')\n",
    "plt.xlabel('epochs')\n",
    "plt.ylabel('accuracy')\n",
    "plt.legend()\n",
    "plt.show()"
   ]
  },
  {
   "cell_type": "code",
   "execution_count": 16,
   "id": "e3262208",
   "metadata": {},
   "outputs": [
    {
     "data": {
      "image/png": "[encoded data removed]",
      "text/plain": [
       "<Figure size 640x480 with 1 Axes>"
      ]
     },
     "metadata": {},
     "output_type": "display_data"
    }
   ],
   "source": [
    "# Loss\n",
    "plt.plot(history.history['loss'], label='training loss')\n",
    "plt.plot(history.history['val_loss'], label='val loss')\n",
    "plt.title('Loss')\n",
    "plt.xlabel('epochs')\n",
    "plt.ylabel('loss')\n",
    "plt.legend()\n",
    "plt.show()"
   ]
  },
  {
   "cell_type": "markdown",
   "id": "0e4f06ad",
   "metadata": {},
   "source": [
    "# Testing on Test data"
   ]
  },
  {
   "cell_type": "code",
   "execution_count": 17,
   "id": "e06b2983",
   "metadata": {},
   "outputs": [],
   "source": [
    "def testing(testcsv, model):\n",
    "    y_test = pd.read_csv(testcsv)\n",
    "    label = y_test[\"ClassId\"].values\n",
    "    imgs = y_test[\"Path\"].values\n",
    "    data=[]\n",
    "    for img in imgs:\n",
    "        image = Image.open(img)\n",
    "        image = image.resize((30,30))\n",
    "        data.append(np.array(image))\n",
    "    X_test = np.array(data)\n",
    "    return X_test, label"
   ]
  },
  {
   "cell_type": "code",
   "execution_count": 18,
   "id": "50711432",
   "metadata": {},
   "outputs": [
    {
     "name": "stdout",
     "output_type": "stream",
     "text": [
      "395/395 [==============================] - 2s 5ms/step\n"
     ]
    }
   ],
   "source": [
    "X_test, label = testing('Test.csv', model)  # Assuming `model` is trained model\n",
    "Y_pred_prob = model.predict(X_test) \n",
    "\n",
    "# Convert the probabilities to class labels\n",
    "Y_pred = np.argmax(Y_pred_prob, axis=1)"
   ]
  },
  {
   "cell_type": "markdown",
   "id": "3e310a45",
   "metadata": {},
   "source": [
    "# Accuracy with the test data"
   ]
  },
  {
   "cell_type": "code",
   "execution_count": 19,
   "id": "4acb4691",
   "metadata": {},
   "outputs": [
    {
     "name": "stdout",
     "output_type": "stream",
     "text": [
      "0.9498020585906571\n"
     ]
    }
   ],
   "source": [
    "from sklearn.metrics import accuracy_score\n",
    "print(accuracy_score(label, Y_pred))"
   ]
  },
  {
   "cell_type": "markdown",
   "id": "9541111b",
   "metadata": {},
   "source": [
    "# Save the model"
   ]
  },
  {
   "cell_type": "code",
   "execution_count": 20,
   "id": "2ca557de",
   "metadata": {},
   "outputs": [
    {
     "name": "stderr",
     "output_type": "stream",
     "text": [
      "C:\\conda\\Lib\\site-packages\\keras\\src\\engine\\training.py:3103: UserWarning: You are saving your model as an HDF5 file via `model.save()`. This file format is considered legacy. We recommend using instead the native Keras format, e.g. `model.save('my_model.keras')`.\n",
      "  saving_api.save_model(\n"
     ]
    }
   ],
   "source": [
    "model.save(\"./training/TSR.h5\")"
   ]
  },
  {
   "cell_type": "markdown",
   "id": "9e79f02e",
   "metadata": {},
   "source": [
    "# Load the Model"
   ]
  },
  {
   "cell_type": "code",
   "execution_count": 21,
   "id": "3c89204b",
   "metadata": {},
   "outputs": [],
   "source": [
    "import os\n",
    "os.chdir(r'D:\\Traffic_Sign_Recognition')\n",
    "from keras.models import load_model\n",
    "from PIL import Image\n",
    "import numpy as np\n",
    "import matplotlib.pyplot as plt\n",
    "\n",
    "# Load model\n",
    "model = load_model('./training/TSR.h5')"
   ]
  },
  {
   "cell_type": "code",
   "execution_count": 22,
   "id": "c5465df8",
   "metadata": {},
   "outputs": [],
   "source": [
    "# Classes of traffic signs\n",
    "classes = {0:'Speed limit (20km/h)', 1:'Speed limit (30km/h)', 2:'Speed limit (50km/h)', 3:'Speed limit (60km/h)', \n",
    "           4:'Speed limit (70km/h)', 5:'Speed limit (80km/h)', 6:'End of speed limit (80km/h)', 7:'Speed limit (100km/h)', \n",
    "           8:'Speed limit (120km/h)', 9:'No passing', 10:'No passing veh over 3.5 tons', 11:'Right-of-way at intersection', \n",
    "           12:'Priority road', 13:'Yield', 14:'Stop', 15:'No vehicles', 16:'Veh > 3.5 tons prohibited', 17:'No entry', \n",
    "           18:'General caution', 19:'Dangerous curve left', 20:'Dangerous curve right', 21:'Double curve', 22:'Bumpy road', \n",
    "           23:'Slippery road', 24:'Road narrows on the right', 25:'Road work', 26:'Traffic signals', 27:'Pedestrians', \n",
    "           28:'Children crossing', 29:'Bicycles crossing', 30:'Beware of ice/snow', 31:'Wild animals crossing', \n",
    "           32:'End speed + passing limits', 33:'Turn right ahead', 34:'Turn left ahead', 35:'Ahead only', \n",
    "           36:'Go straight or right', 37:'Go straight or left', 38:'Keep right', 39:'Keep left', 40:'Roundabout mandatory', \n",
    "           41:'End of no passing', 42:'End no passing veh > 3.5 tons'}\n"
   ]
  },
  {
   "cell_type": "code",
   "execution_count": 23,
   "id": "06e84d2a",
   "metadata": {},
   "outputs": [],
   "source": [
    "# Function to test on an image\n",
    "def test_on_img(img):\n",
    "    data=[]\n",
    "    image = Image.open(img)\n",
    "    image = image.resize((30,30))\n",
    "    data.append(np.array(image))\n",
    "    X_test = np.array(data)\n",
    "    Y_pred_prob = model.predict(X_test)\n",
    "    Y_pred = np.argmax(Y_pred_prob, axis=1)\n",
    "    return image, Y_pred"
   ]
  },
  {
   "cell_type": "code",
   "execution_count": 24,
   "id": "c274ce8a",
   "metadata": {},
   "outputs": [
    {
     "name": "stdout",
     "output_type": "stream",
     "text": [
      "1/1 [==============================] - 0s 76ms/step\n",
      "Predicted traffic sign is: Stop\n"
     ]
    },
    {
     "data": {
      "image/png": "[encoded data removed]",
      "text/plain": [
       "<Figure size 640x480 with 1 Axes>"
      ]
     },
     "metadata": {},
     "output_type": "display_data"
    }
   ],
   "source": [
    "# Test 1 on an image\n",
    "plot, prediction = test_on_img(r'D:\\Traffic_Sign_Recognition\\Test\\00093.png')\n",
    "predicted_class = classes[prediction[0]]\n",
    "print(\"Predicted traffic sign is:\", predicted_class)\n",
    "plt.imshow(plot)\n",
    "plt.show()"
   ]
  },
  {
   "cell_type": "code",
   "execution_count": 25,
   "id": "fce1265b",
   "metadata": {},
   "outputs": [
    {
     "name": "stdout",
     "output_type": "stream",
     "text": [
      "1/1 [==============================] - 0s 19ms/step\n",
      "Predicted traffic sign is: Speed limit (50km/h)\n"
     ]
    },
    {
     "data": {
      "image/png": "[encoded data removed]",
      "text/plain": [
       "<Figure size 640x480 with 1 Axes>"
      ]
     },
     "metadata": {},
     "output_type": "display_data"
    }
   ],
   "source": [
    "# Test 2 on an image\n",
    "plot, prediction = test_on_img(r'D:\\Traffic_Sign_Recognition\\Test\\00034.png')\n",
    "predicted_class = classes[prediction[0]]\n",
    "print(\"Predicted traffic sign is:\", predicted_class)\n",
    "plt.imshow(plot)\n",
    "plt.show()"
   ]
  },
  {
   "cell_type": "code",
   "execution_count": 26,
   "id": "43bdbee9",
   "metadata": {},
   "outputs": [
    {
     "name": "stdout",
     "output_type": "stream",
     "text": [
      "1/1 [==============================] - 0s 18ms/step\n",
      "Predicted traffic sign is: Bumpy road\n"
     ]
    },
    {
     "data": {
      "image/png": "[encoded data removed]",
      "text/plain": [
       "<Figure size 640x480 with 1 Axes>"
      ]
     },
     "metadata": {},
     "output_type": "display_data"
    }
   ],
   "source": [
    "# Test 3 on an image\n",
    "plot, prediction = test_on_img(r'D:\\Traffic_Sign_Recognition\\Test\\00500.png')\n",
    "predicted_class = classes[prediction[0]]\n",
    "print(\"Predicted traffic sign is:\", predicted_class)\n",
    "plt.imshow(plot)\n",
    "plt.show()"
   ]
  },
  {
   "cell_type": "code",
   "execution_count": null,
   "id": "0abe1614",
   "metadata": {},
   "outputs": [],
   "source": []
  }
 ],
 "metadata": {
  "kernelspec": {
   "display_name": "Python 3 (ipykernel)",
   "language": "python",
   "name": "python3"
  },
  "language_info": {
   "codemirror_mode": {
    "name": "ipython",
    "version": 3
   },
   "file_extension": ".py",
   "mimetype": "text/x-python",
   "name": "python",
   "nbconvert_exporter": "python",
   "pygments_lexer": "ipython3",
   "version": "3.11.5"
  }
 },
 "nbformat": 4,
 "nbformat_minor": 5
}
